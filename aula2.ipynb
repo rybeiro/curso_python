{
 "cells": [
  {
   "cell_type": "code",
   "execution_count": 1,
   "id": "778cd0df-425a-4a03-8764-9a7a97117ab2",
   "metadata": {},
   "outputs": [
    {
     "name": "stdin",
     "output_type": "stream",
     "text": [
      "Informe o nome do produto:  Arroz\n",
      "Informe o nome do produto:  Feijão\n",
      "Informe o nome do produto:  \n"
     ]
    },
    {
     "name": "stdout",
     "output_type": "stream",
     "text": [
      "['Arroz', 'Feijão']\n"
     ]
    }
   ],
   "source": [
    "produtos = []\n",
    "produto = ''\n",
    "while True:\n",
    "    produto = input(\"Informe o nome do produto: \")\n",
    "    if not produto:\n",
    "        break\n",
    "    produtos.append(produto)\n",
    "\n",
    "print(produtos)"
   ]
  },
  {
   "cell_type": "code",
   "execution_count": null,
   "id": "8fb8bc4c-4412-4a80-9a28-38f0970f7785",
   "metadata": {},
   "outputs": [],
   "source": []
  },
  {
   "cell_type": "code",
   "execution_count": null,
   "id": "8b2919ec-69d5-417d-b9f2-46c1c47a54f9",
   "metadata": {},
   "outputs": [],
   "source": []
  }
 ],
 "metadata": {
  "kernelspec": {
   "display_name": "Python 3",
   "language": "python",
   "name": "python3"
  },
  "language_info": {
   "codemirror_mode": {
    "name": "ipython",
    "version": 3
   },
   "file_extension": ".py",
   "mimetype": "text/x-python",
   "name": "python",
   "nbconvert_exporter": "python",
   "pygments_lexer": "ipython3",
   "version": "3.9.5"
  }
 },
 "nbformat": 4,
 "nbformat_minor": 5
}
