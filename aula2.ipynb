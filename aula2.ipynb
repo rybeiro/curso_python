{
 "cells": [
  {
   "cell_type": "markdown",
   "id": "a2685b33-675b-463f-83e4-1e80edd78289",
   "metadata": {},
   "source": [
    "# List Comprehension\n",
    "- Utilizando List Comprehension nós podemos gerar uma nova lista com dados processados a partir de outro iterável.\n",
    "\n",
    "> Sintaxe: ```[dado for dado in iteravel]```\n",
    "\n",
    "**Exemplo**\n",
    "```\n",
    "numeros = [1,2,3,4,5]\n",
    "res = [numero * 10 for numero in numeros]\n",
    "print(res)\n",
    "\n",
    "amigos = ['joao', 'maria', 'jessica']\n",
    "print([amigo.title() for amigo in amigos])\n",
    "```\n",
    "\n",
    "- Adicionando estruturas condicionais lógicas\n",
    "```\n",
    "numeros = [1,2,3,4,5]\n",
    "pares = [numero for numero in numeros if numero % 2 == 0]\n",
    "impares = [numero for numero in numeros if numero % 2 != 0]\n",
    "\n",
    "# Outra lógica para par ou ímpar\n",
    "pares = [numero for numero in numeros if not numero % 2]\n",
    "impares = [numero for numero in numeros if numero % 2]\n",
    "```\n",
    "\n",
    "# Listas Aninhadas\n",
    "- Em algumas linguagens conhecido com Matrizes. \n",
    "```[[1,2,3], [4,5,6], [7,8,9]]``` Matriz: 3x3.\n",
    "- Acessando elementos\n",
    "    - Loops em uma lista aninhada (matriz)\n",
    "        ```\n",
    "        listas = [[1,2,3], [4,5,6], [7,8,9]]\n",
    "        for lista in listas:\n",
    "            for num in lista:\n",
    "                print(num)\n",
    "        ```\n",
    "    - List Comprehesion\n",
    "        ```\n",
    "        [[print(valor) for valor in lista] for lista in listas]\n",
    "        ```\n",
    "        \n",
    "# Dictionary Comprehension\n",
    "> Sintaxe: {chave:valor for valor in iterável}\n",
    "\n",
    "```\n",
    "numeros = {'a': 1, 'b': 2, 'c': 3, 'd': 4, 'e': 5}\n",
    "\n",
    "print({chave: valor for numero in numeros})\n",
    "```\n",
    "\n",
    "# Set Comprehension\n",
    "- *set()* ```conjunto = {1,2,3,4,5}```\n",
    "```\n",
    "conjuntos = {1,2,3,4,5}\n",
    "print({conjunto ** 2 for conjunto in conjuntos})\n",
    "\n",
    "# convertendo em dicionário\n",
    "conjuntos = {1,2,3,4,5}\n",
    "print({conjunto: conjunto ** 2 for conjunto in conjuntos})\n",
    "```"
   ]
  },
  {
   "cell_type": "code",
   "execution_count": 18,
   "id": "8fb8bc4c-4412-4a80-9a28-38f0970f7785",
   "metadata": {},
   "outputs": [
    {
     "name": "stdout",
     "output_type": "stream",
     "text": [
      "{1: 1, 2: 4, 3: 9, 4: 16, 5: 25}\n"
     ]
    }
   ],
   "source": [
    "conjuntos = {1,2,3,4,5}\n",
    "print({conjunto: conjunto ** 2 for conjunto in conjuntos})"
   ]
  },
  {
   "cell_type": "code",
   "execution_count": null,
   "id": "8b2919ec-69d5-417d-b9f2-46c1c47a54f9",
   "metadata": {},
   "outputs": [],
   "source": []
  }
 ],
 "metadata": {
  "kernelspec": {
   "display_name": "Python 3",
   "language": "python",
   "name": "python3"
  },
  "language_info": {
   "codemirror_mode": {
    "name": "ipython",
    "version": 3
   },
   "file_extension": ".py",
   "mimetype": "text/x-python",
   "name": "python",
   "nbconvert_exporter": "python",
   "pygments_lexer": "ipython3",
   "version": "3.9.5"
  }
 },
 "nbformat": 4,
 "nbformat_minor": 5
}
