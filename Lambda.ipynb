{
 "cells": [
  {
   "cell_type": "markdown",
   "id": "cf535364-cf4f-466d-a4ee-6a6f123d8715",
   "metadata": {},
   "source": [
    "# Expressões Lambdas\n",
    "Expressões Lambdas ou Lambdas são funções anônimas.Para criar funções lambdas utilizamos a palavra reservada *lambda*\n",
    "\n",
    "```python\n",
    "# um uso de lambda, não convencional\n",
    "\n",
    "calc = lambda x: 3 * x\n",
    "\n",
    "# chamada\n",
    "calc(4)\n",
    "```\n",
    "\n",
    "Expressões *lambdas* com multiplos parâmetros\n",
    "```python\n",
    "nome_completo = lambda nome, sobrenome: \"Olá \"+ nome.strip().title() +\" \"+sobrenome.strip().title()\n",
    "```\n",
    "\n",
    "Exemplo mais útil para expressões lambdas\n",
    "```python\n",
    "# f(x) função quadratica\n",
    "def funcao_quadratica(a,b,c):\n",
    "    return lambda x: a * x ** 2 + b * x + c\n",
    "\n",
    "solucao = funcao_quadratica(3, 4, 2)\n",
    "\n",
    "solucao(2)\n",
    "# 3 * 2**2 + 4 * 2 + 2\n",
    "# 3 * 4 + 8 + 2\n",
    "# 12 + 10\n",
    "# 22\n",
    "```"
   ]
  },
  {
   "cell_type": "code",
   "execution_count": 5,
   "id": "111122e3-adcc-4f6d-90d7-3c1eb32b316b",
   "metadata": {},
   "outputs": [
    {
     "name": "stdout",
     "output_type": "stream",
     "text": [
      "22\n"
     ]
    }
   ],
   "source": [
    "def funcao_quadratica(a,b,c):\n",
    "    return lambda x: a * x ** 2 + b * x + c\n",
    "\n",
    "print(funcao_quadratica(3, 4, 2)(2))"
   ]
  },
  {
   "cell_type": "markdown",
   "id": "3cf6697d-4fa4-4dc2-99ed-d258e4203fd7",
   "metadata": {},
   "source": [
    "# Função Map\n",
    "*Map* é uma função que recebe 2 parâmetros, o primeiro é uma função e o segundo um iterável. **map(function, iteravel)** retorna um *Map Object*\n",
    "```python\n",
    "import math\n",
    "\n",
    "def area(raio):\n",
    "    return math.pi * raio ** 2\n",
    "\n",
    "\n",
    "raios = [14,3,0.4, 8.4]\n",
    "\n",
    "areas = map(area, raio)\n",
    "\n",
    "```\n",
    "Agora a operação acima usando **lambda**\n",
    "```python\n",
    "print(list(map(lambda r: math.pi * r ** 2, raios)))\n",
    "```\n",
    "\n",
    "> O **map()** depois de utilizado é excluído da memória."
   ]
  },
  {
   "cell_type": "code",
   "execution_count": 10,
   "id": "6adb9ec2-e51d-4c08-bf8c-6181bc496dd7",
   "metadata": {},
   "outputs": [
    {
     "name": "stdout",
     "output_type": "stream",
     "text": [
      "[615.7521601035994, 28.274333882308138, 0.5026548245743669, 221.6707776372958]\n"
     ]
    }
   ],
   "source": [
    "print(list(map(lambda r: math.pi * r ** 2, raios)))"
   ]
  },
  {
   "cell_type": "code",
   "execution_count": 9,
   "id": "b321c108-c0d9-46f7-b127-48cad1b3844e",
   "metadata": {},
   "outputs": [
    {
     "name": "stdout",
     "output_type": "stream",
     "text": [
      "[615.7521601035994, 28.274333882308138, 0.5026548245743669, 221.6707776372958]\n"
     ]
    }
   ],
   "source": [
    "print(list(areas))"
   ]
  },
  {
   "cell_type": "code",
   "execution_count": null,
   "id": "9eb14c6f-c538-481d-898a-2478fa9de1f3",
   "metadata": {},
   "outputs": [],
   "source": []
  }
 ],
 "metadata": {
  "kernelspec": {
   "display_name": "Python 3 (ipykernel)",
   "language": "python",
   "name": "python3"
  },
  "language_info": {
   "codemirror_mode": {
    "name": "ipython",
    "version": 3
   },
   "file_extension": ".py",
   "mimetype": "text/x-python",
   "name": "python",
   "nbconvert_exporter": "python",
   "pygments_lexer": "ipython3",
   "version": "3.9.5"
  }
 },
 "nbformat": 4,
 "nbformat_minor": 5
}
