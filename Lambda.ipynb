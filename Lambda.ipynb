{
 "cells": [
  {
   "cell_type": "markdown",
   "id": "cf535364-cf4f-466d-a4ee-6a6f123d8715",
   "metadata": {},
   "source": []
  },
  {
   "cell_type": "code",
   "execution_count": 28,
   "id": "111122e3-adcc-4f6d-90d7-3c1eb32b316b",
   "metadata": {},
   "outputs": [
    {
     "name": "stdout",
     "output_type": "stream",
     "text": [
      "Maxi\n",
      "Beta\n"
     ]
    }
   ],
   "source": [
    "musicas = [\n",
    "    {'titulo': 'Alfa', 'tocou': 3},\n",
    "    {'titulo': 'Beta', 'tocou': 1},\n",
    "    {'titulo': 'Gama', 'tocou': 2},\n",
    "    {'titulo': 'Delta', 'tocou': 4},\n",
    "    {'titulo': 'Maxi', 'tocou': 5},\n",
    "]\n",
    "\n",
    "# print(max(musicas, key=lambda musica: musica['tocou'])['titulo'])\n",
    "atual = 0\n",
    "maximo\n",
    "minimo\n",
    "for musica in musicas:\n",
    "    if musica['tocou'] > atual:\n",
    "        maximo = musica\n",
    "    if  atual > musica['tocou']:\n",
    "        minimo = musica\n",
    "    atual = musica['tocou']\n",
    "                \n",
    "print(maximo['titulo'])\n",
    "print(minimo['titulo'])"
   ]
  },
  {
   "cell_type": "code",
   "execution_count": 32,
   "id": "a6bdc56b-5b59-415e-87bb-43d00613c87f",
   "metadata": {},
   "outputs": [
    {
     "name": "stdout",
     "output_type": "stream",
     "text": [
      "{'Maria': 9.7, 'Roger': 7.2, 'Joaquina': 7.8}\n"
     ]
    }
   ],
   "source": [
    "prova1 = [9.7, 6.7, 7.8]\n",
    "prova2 = [5.5, 7.2, 6.8]\n",
    "alunos = ['Maria', 'Roger', 'Joaquina']\n",
    "\n",
    "media_final = zip(alunos, map(lambda nota: max(nota), zip(prova1, prova2)))\n",
    "\n",
    "print(dict(media_final))"
   ]
  },
  {
   "cell_type": "code",
   "execution_count": 33,
   "id": "d8cd3926-c752-4ec9-adb3-981f247384b4",
   "metadata": {},
   "outputs": [
    {
     "name": "stdout",
     "output_type": "stream",
     "text": [
      "[(9.7, 5.5), (6.7, 7.2), (7.8, 6.8)]\n"
     ]
    }
   ],
   "source": [
    "prova1 = [9.7, 6.7, 7.8]\n",
    "prova2 = [5.5, 7.2, 6.8]\n",
    "alunos = ['Maria', 'Roger', 'Joaquina']\n",
    "\n",
    "print(list(zip(prova1, prova2)))"
   ]
  },
  {
   "cell_type": "code",
   "execution_count": 34,
   "id": "88874b2c-8e9f-4aaf-a501-b4b71870a172",
   "metadata": {},
   "outputs": [
    {
     "data": {
      "text/plain": [
       "[9.7, 7.2, 7.8]"
      ]
     },
     "execution_count": 34,
     "metadata": {},
     "output_type": "execute_result"
    }
   ],
   "source": [
    "list(map(lambda nota: max(nota), [(9.7, 5.5), (6.7, 7.2), (7.8, 6.8)]))"
   ]
  },
  {
   "cell_type": "code",
   "execution_count": null,
   "id": "d0298353-243f-4489-9890-347445978489",
   "metadata": {},
   "outputs": [],
   "source": [
    "dict(alunos, )"
   ]
  }
 ],
 "metadata": {
  "kernelspec": {
   "display_name": "Python 3 (ipykernel)",
   "language": "python",
   "name": "python3"
  },
  "language_info": {
   "codemirror_mode": {
    "name": "ipython",
    "version": 3
   },
   "file_extension": ".py",
   "mimetype": "text/x-python",
   "name": "python",
   "nbconvert_exporter": "python",
   "pygments_lexer": "ipython3",
   "version": "3.9.5"
  }
 },
 "nbformat": 4,
 "nbformat_minor": 5
}
