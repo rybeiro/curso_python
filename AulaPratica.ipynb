{
 "cells": [
  {
   "cell_type": "code",
   "execution_count": 3,
   "id": "534c493f-f730-4fae-b527-b9f4c0dde9fe",
   "metadata": {},
   "outputs": [
    {
     "name": "stdout",
     "output_type": "stream",
     "text": [
      "25\n"
     ]
    }
   ],
   "source": [
    "# Lambda Expression -> Função lambda\n",
    "quadrado = lambda num: num ** 2\n",
    "print(quadrado(5))"
   ]
  },
  {
   "cell_type": "code",
   "execution_count": 28,
   "id": "7799417c-82be-4fa8-94d0-12ac938a49be",
   "metadata": {},
   "outputs": [
    {
     "name": "stdout",
     "output_type": "stream",
     "text": [
      "O valor total com 30% é de 130.000000\n",
      "O valor acréscido sobre o total é de 30.0\n"
     ]
    }
   ],
   "source": [
    "# Fórmula para retornar o acréscimo percentual sobre o valor\n",
    "valor = 100 * 1.3\n",
    "print(\"O valor total com 30% é de {:1f}\".format(valor))\n",
    "\n",
    "# Fórmula para retornar o valor acréscido.\n",
    "valor = 100 * 0.3\n",
    "print(f\"O valor acréscido sobre o total é de {valor}\")"
   ]
  },
  {
   "cell_type": "code",
   "execution_count": 43,
   "id": "226db400-8597-4bc4-9863-f69f56ff80e3",
   "metadata": {},
   "outputs": [
    {
     "name": "stdout",
     "output_type": "stream",
     "text": [
      "O valor atulizado dos produtos é [7700.000000000001, 12474.000000000002, 5168.900000000001, 3298.9]\n"
     ]
    }
   ],
   "source": [
    "produtos = {'iPhone': 7000, 'iMac': 11340, 'iPad': 4699, 'iPod': 2999}\n",
    "\n",
    "valores_atualizados = list(map(lambda preco: preco * 1.1, produtos.values()))\n",
    "print(f\"O valor atulizado dos produtos é {valores_atualizados}\")"
   ]
  },
  {
   "cell_type": "code",
   "execution_count": 52,
   "id": "e5cfebba-ea3a-4bf8-b6e1-c92284338f22",
   "metadata": {},
   "outputs": [
    {
     "name": "stdout",
     "output_type": "stream",
     "text": [
      "{'iPhone': 7000, 'iMac': 11340}\n"
     ]
    }
   ],
   "source": [
    "produtos = {'iPhone': 7000, 'iMac': 11340, 'iPad': 4699, 'iPod': 2999}\n",
    "filtrar_produto_acima5000 = dict(list(filter(lambda item: item[1] > 5000, produtos.items())))\n",
    "print(filtrar_produto_acima5000)"
   ]
  },
  {
   "cell_type": "code",
   "execution_count": null,
   "id": "9616adde-2775-434c-a6f3-cfb1cdb63459",
   "metadata": {},
   "outputs": [],
   "source": []
  }
 ],
 "metadata": {
  "kernelspec": {
   "display_name": "Python 3",
   "language": "python",
   "name": "python3"
  },
  "language_info": {
   "codemirror_mode": {
    "name": "ipython",
    "version": 3
   },
   "file_extension": ".py",
   "mimetype": "text/x-python",
   "name": "python",
   "nbconvert_exporter": "python",
   "pygments_lexer": "ipython3",
   "version": "3.9.5"
  }
 },
 "nbformat": 4,
 "nbformat_minor": 5
}
