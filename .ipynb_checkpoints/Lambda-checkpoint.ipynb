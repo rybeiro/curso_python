{
 "cells": [
  {
   "cell_type": "markdown",
   "id": "cf535364-cf4f-466d-a4ee-6a6f123d8715",
   "metadata": {},
   "source": []
  },
  {
   "cell_type": "code",
   "execution_count": 16,
   "id": "111122e3-adcc-4f6d-90d7-3c1eb32b316b",
   "metadata": {},
   "outputs": [
    {
     "name": "stdout",
     "output_type": "stream",
     "text": [
      "Maxi\n",
      "Gama\n"
     ]
    }
   ],
   "source": [
    "musicas = [\n",
    "    {'titulo': 'Alfa', 'tocou': 3},\n",
    "    {'titulo': 'Beta', 'tocou': 1},\n",
    "    {'titulo': 'Gama', 'tocou': 2},\n",
    "    {'titulo': 'Delta', 'tocou': 4},\n",
    "    {'titulo': 'Maxi', 'tocou': 5},\n",
    "]\n",
    "\n",
    "# print(max(musicas, key=lambda musica: musica['tocou'])['titulo'])\n",
    "atual = 0\n",
    "maximo = []\n",
    "minimo = []\n",
    "for musica in musicas:\n",
    "    if musica['tocou'] > atual:\n",
    "        atual = musica['tocou']\n",
    "        maximo = musica\n",
    "    if musica['tocou'] < atual:\n",
    "        minimo = musica\n",
    "        \n",
    "print(maximo['titulo'])\n",
    "print(minimo['titulo'])"
   ]
  },
  {
   "cell_type": "markdown",
   "id": "3cf6697d-4fa4-4dc2-99ed-d258e4203fd7",
   "metadata": {},
   "source": [
    "None"
   ]
  }
 ],
 "metadata": {
  "kernelspec": {
   "display_name": "Python 3 (ipykernel)",
   "language": "python",
   "name": "python3"
  },
  "language_info": {
   "codemirror_mode": {
    "name": "ipython",
    "version": 3
   },
   "file_extension": ".py",
   "mimetype": "text/x-python",
   "name": "python",
   "nbconvert_exporter": "python",
   "pygments_lexer": "ipython3",
   "version": "3.9.5"
  }
 },
 "nbformat": 4,
 "nbformat_minor": 5
}
