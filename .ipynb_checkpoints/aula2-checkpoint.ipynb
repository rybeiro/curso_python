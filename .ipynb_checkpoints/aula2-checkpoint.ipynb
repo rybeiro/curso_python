{
 "cells": [
  {
   "cell_type": "markdown",
   "id": "a2685b33-675b-463f-83e4-1e80edd78289",
   "metadata": {},
   "source": [
    "# Funções\n",
    "São pequenos trechos de códigos que realizam tarefas especificas e bem definidas. Funções podem ou não receber parâmentros de entrada e retornar ou não dados.\n",
    "\n",
    "- Existem função pre-definidas pela linguagem, exemplo: ```print()```\n",
    "- Uma função é definida a partir da palavra reservada *def*.\n",
    "- Nome de função deve ser definida com letras minúsculas. ```def nomefuncao():```\n",
    "- Nome composto deve-se separar por underline (*Snake case*). ```def nome_funcao():```\n",
    "- Bloco da função ou corpo da função deve ficar identado.\n",
    "- Usando a função ou executando a função: ```nome_funcao()```\n",
    "- Para retornar dados em uma função utilizamos a palavra *return*\n",
    "- *return* finaliza a execução da função.\n",
    "- Funções com parâmetros de entrada obrigatório. ```def funcao(numero)```\n",
    "    - **Parâmetro** são variáveis declaradas na definição de uma função\n",
    "    - **Argumentos** são dados passados na chamada da função\n",
    "- Função com parâmetros de entrada padrão *default paramters*. ```def exponencial(numero, potencia=2):```\n",
    "- OBS: Parâmetros com valor padrão DEVEM ser informados no final da declaração\n",
    "    - ERROR: ```def exponencial(numero=2, potencia):```\n",
    "    - CORRETO: ```def exponecial(numero, potencia=2):```\n",
    "\n",
    "# Escopo de variáveis\n",
    "Variáveis locais é predominante às globais dentro do bloco da função.\n",
    "- Variáveis globais, são declaradas FORA das funções e são acessíveis em qualquer lugar do programa.\n",
    "- Variáveis locais, são declaradas DENTRO das funções e só podem ser utilizadas dentro do bloco (escopo) da função.\n",
    "- Para utilizar uma variável global com mesmo nome de uma variável local é necessário informar ao Python utilizando a palavra reservada **global** antes da variável global.\n",
    "\n",
    "Exemplos:\n",
    "> USO ERRADO de variáveis globais com mesmo nome de variável local\n",
    "```\n",
    "total = 0\n",
    "\n",
    "def incrementa():\n",
    "    total = total + 1\n",
    "    return total\n",
    "```\n",
    "\n",
    "> USO CORRETO de variáveis globais com mesmo nome de variável local\n",
    "```\n",
    "total = 0\n",
    "\n",
    "def incrementa():\n",
    "    global total\n",
    "    total = total + 1\n",
    "    return total\n",
    "```\n",
    "\n",
    "> ATENÇÃO EVITE O USO DE VARIÁVEIS GLOBAIS\n",
    "\n"
   ]
  },
  {
   "cell_type": "code",
   "execution_count": 3,
   "id": "8fb8bc4c-4412-4a80-9a28-38f0970f7785",
   "metadata": {},
   "outputs": [
    {
     "name": "stdout",
     "output_type": "stream",
     "text": [
      "1\n"
     ]
    }
   ],
   "source": [
    "total = 0\n",
    "\n",
    "def incrementa():\n",
    "    global total\n",
    "    total = total + 1\n",
    "    return total\n",
    "\n",
    "print(incrementa())"
   ]
  },
  {
   "cell_type": "code",
   "execution_count": null,
   "id": "8b2919ec-69d5-417d-b9f2-46c1c47a54f9",
   "metadata": {},
   "outputs": [],
   "source": []
  }
 ],
 "metadata": {
  "kernelspec": {
   "display_name": "Python 3",
   "language": "python",
   "name": "python3"
  },
  "language_info": {
   "codemirror_mode": {
    "name": "ipython",
    "version": 3
   },
   "file_extension": ".py",
   "mimetype": "text/x-python",
   "name": "python",
   "nbconvert_exporter": "python",
   "pygments_lexer": "ipython3",
   "version": "3.9.5"
  }
 },
 "nbformat": 4,
 "nbformat_minor": 5
}
