{
 "cells": [
  {
   "cell_type": "code",
   "execution_count": 3,
   "id": "534c493f-f730-4fae-b527-b9f4c0dde9fe",
   "metadata": {},
   "outputs": [
    {
     "name": "stdout",
     "output_type": "stream",
     "text": [
      "25\n"
     ]
    }
   ],
   "source": [
    "# Lambda Expression -> Função lambda\n",
    "quadrado = lambda num: num ** 2\n",
    "print(quadrado(5))"
   ]
  },
  {
   "cell_type": "code",
   "execution_count": 28,
   "id": "7799417c-82be-4fa8-94d0-12ac938a49be",
   "metadata": {},
   "outputs": [
    {
     "name": "stdout",
     "output_type": "stream",
     "text": [
      "O valor total com 30% é de 130.000000\n",
      "O valor acréscido sobre o total é de 30.0\n"
     ]
    }
   ],
   "source": [
    "# Fórmula para retornar o acréscimo percentual sobre o valor\n",
    "valor = 100 * 1.3\n",
    "print(\"O valor total com 30% é de {:1f}\".format(valor))\n",
    "\n",
    "# Fórmula para retornar o valor acréscido.\n",
    "valor = 100 * 0.3\n",
    "print(f\"O valor acréscido sobre o total é de {valor}\")"
   ]
  },
  {
   "cell_type": "code",
   "execution_count": 32,
   "id": "226db400-8597-4bc4-9863-f69f56ff80e3",
   "metadata": {},
   "outputs": [
    {
     "ename": "TypeError",
     "evalue": "unsupported format string passed to list.__format__",
     "output_type": "error",
     "traceback": [
      "\u001b[0;31m---------------------------------------------------------------------------\u001b[0m",
      "\u001b[0;31mTypeError\u001b[0m                                 Traceback (most recent call last)",
      "\u001b[0;32m<ipython-input-32-7a3932da973b>\u001b[0m in \u001b[0;36m<module>\u001b[0;34m\u001b[0m\n\u001b[1;32m      2\u001b[0m \u001b[0;34m\u001b[0m\u001b[0m\n\u001b[1;32m      3\u001b[0m \u001b[0mvalores_atualizados\u001b[0m \u001b[0;34m=\u001b[0m \u001b[0mlist\u001b[0m\u001b[0;34m(\u001b[0m\u001b[0mmap\u001b[0m\u001b[0;34m(\u001b[0m\u001b[0;32mlambda\u001b[0m \u001b[0mpreco\u001b[0m\u001b[0;34m:\u001b[0m \u001b[0mpreco\u001b[0m \u001b[0;34m*\u001b[0m \u001b[0;36m1.1\u001b[0m\u001b[0;34m,\u001b[0m \u001b[0mprodutos\u001b[0m\u001b[0;34m.\u001b[0m\u001b[0mvalues\u001b[0m\u001b[0;34m(\u001b[0m\u001b[0;34m)\u001b[0m\u001b[0;34m)\u001b[0m\u001b[0;34m)\u001b[0m\u001b[0;34m\u001b[0m\u001b[0;34m\u001b[0m\u001b[0m\n\u001b[0;32m----> 4\u001b[0;31m \u001b[0mprint\u001b[0m\u001b[0;34m(\u001b[0m\u001b[0;34mf\"O valor atulizado dos produtos é {valores_atualizados:2f}\"\u001b[0m\u001b[0;34m)\u001b[0m\u001b[0;34m\u001b[0m\u001b[0;34m\u001b[0m\u001b[0m\n\u001b[0m",
      "\u001b[0;31mTypeError\u001b[0m: unsupported format string passed to list.__format__"
     ]
    }
   ],
   "source": [
    "produtos = {'iPhone': 7000, 'iMac': 11340, 'iPad': 4699, 'iPod': 2999}\n",
    "\n",
    "valores_atualizados = list(map(lambda preco: preco * 1.1, produtos.values()))\n",
    "print(f\"O valor atulizado dos produtos é {valores_atualizados:d}\")"
   ]
  },
  {
   "cell_type": "code",
   "execution_count": null,
   "id": "e5cfebba-ea3a-4bf8-b6e1-c92284338f22",
   "metadata": {},
   "outputs": [],
   "source": []
  }
 ],
 "metadata": {
  "kernelspec": {
   "display_name": "Python 3",
   "language": "python",
   "name": "python3"
  },
  "language_info": {
   "codemirror_mode": {
    "name": "ipython",
    "version": 3
   },
   "file_extension": ".py",
   "mimetype": "text/x-python",
   "name": "python",
   "nbconvert_exporter": "python",
   "pygments_lexer": "ipython3",
   "version": "3.9.5"
  }
 },
 "nbformat": 4,
 "nbformat_minor": 5
}
