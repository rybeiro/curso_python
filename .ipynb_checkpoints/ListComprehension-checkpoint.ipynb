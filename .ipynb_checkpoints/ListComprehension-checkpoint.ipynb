{
 "cells": [
  {
   "cell_type": "markdown",
   "id": "e442df1b-4777-4408-ab75-4471be3e894b",
   "metadata": {},
   "source": [
    "# List Comprehension\n",
    "- Filtrando List Comprehension com if e else\n",
    "Observe que para aplicamos a condição if e else vem antes do for"
   ]
  },
  {
   "cell_type": "code",
   "execution_count": 3,
   "id": "8fb8bc4c-4412-4a80-9a28-38f0970f7785",
   "metadata": {},
   "outputs": [],
   "source": [
    "vendedores = {'Maria': 1500, 'José': 800, 'Pedro': 1100, 'Patricia': 990}\n",
    "meta = 1000\n",
    "bonus = 0.1\n",
    "\n",
    "venderes_bateram_a_meta = [vendedores[item] * bonus if vendedores[item] > meta else 0 for item in vendedores]"
   ]
  },
  {
   "cell_type": "code",
   "execution_count": 4,
   "id": "8b2919ec-69d5-417d-b9f2-46c1c47a54f9",
   "metadata": {},
   "outputs": [
    {
     "name": "stdout",
     "output_type": "stream",
     "text": [
      "[150.0, 0, 110.0, 0]\n"
     ]
    }
   ],
   "source": [
    "print(venderes_bateram_a_meta)"
   ]
  },
  {
   "cell_type": "code",
   "execution_count": null,
   "id": "146673e7-319f-49f7-92c0-801b018be63e",
   "metadata": {},
   "outputs": [],
   "source": []
  }
 ],
 "metadata": {
  "kernelspec": {
   "display_name": "Python 3",
   "language": "python",
   "name": "python3"
  },
  "language_info": {
   "codemirror_mode": {
    "name": "ipython",
    "version": 3
   },
   "file_extension": ".py",
   "mimetype": "text/x-python",
   "name": "python",
   "nbconvert_exporter": "python",
   "pygments_lexer": "ipython3",
   "version": "3.9.5"
  }
 },
 "nbformat": 4,
 "nbformat_minor": 5
}
